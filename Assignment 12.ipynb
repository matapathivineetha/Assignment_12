{
 "cells": [
  {
   "cell_type": "code",
   "execution_count": 2,
   "metadata": {},
   "outputs": [
    {
     "name": "stdout",
     "output_type": "stream",
     "text": [
      "(5, 10, 15, 20, 25)\n",
      "5\n"
     ]
    }
   ],
   "source": [
    "# write a python program to create a tuple\n",
    "tuple = 5, 10, 15, 20, 25\n",
    "print(tuple)\n",
    "tuple = 5\n",
    "print(tuple)\n"
   ]
  },
  {
   "cell_type": "code",
   "execution_count": 4,
   "metadata": {},
   "outputs": [
    {
     "name": "stdout",
     "output_type": "stream",
     "text": [
      "('tuple', False, 3.2, 1)\n"
     ]
    }
   ],
   "source": [
    "# write a python program to create a tuple with different data types\n",
    "tuple = (\"tuple\", False, 3.2, 1)\n",
    "print(tuple)\n"
   ]
  },
  {
   "cell_type": "code",
   "execution_count": 6,
   "metadata": {},
   "outputs": [
    {
     "name": "stdout",
     "output_type": "stream",
     "text": [
      "VikasVineetha\n"
     ]
    }
   ],
   "source": [
    "# write a python program to covert a tuple to a string\n",
    "tuple = ('V', 'i', 'k', 'a', 's', 'V', 'i', 'n', 'e', 'e', 't', 'h', 'a')\n",
    "str =  ''.join(tuple)\n",
    "print(str)"
   ]
  },
  {
   "cell_type": "code",
   "execution_count": 23,
   "metadata": {},
   "outputs": [
    {
     "name": "stdout",
     "output_type": "stream",
     "text": [
      "Gangadhar\n",
      "9\n"
     ]
    }
   ],
   "source": [
    "# write a python program to find the length of a \n",
    "tuple = (\"Gangadhar\")\n",
    "print(tuple)\n",
    "print(len(tuple))"
   ]
  },
  {
   "cell_type": "code",
   "execution_count": 24,
   "metadata": {},
   "outputs": [
    {
     "name": "stdout",
     "output_type": "stream",
     "text": [
      "{'S': 2, 'V': 3}\n"
     ]
    }
   ],
   "source": [
    "# write a python program to convert a tuple to a dictionary\n",
    "tuple= ((2, \"S\"),(3, \"V\"))\n",
    "print(dict((y, x) for x, y in tuple))\n"
   ]
  },
  {
   "cell_type": "code",
   "execution_count": 30,
   "metadata": {},
   "outputs": [
    {
     "name": "stdout",
     "output_type": "stream",
     "text": [
      "{'x': [1, 2, 3], 'y': [1, 2], 'z': [1]}\n"
     ]
    }
   ],
   "source": [
    "# write a python program to convert a list of tuples into a dictionary\n",
    "l = [(\"x\", 1), (\"x\", 2), (\"x\", 3), (\"y\", 1), (\"y\", 2), (\"z\", 1)]\n",
    "d = {}\n",
    "for a, b in l:\n",
    "    d.setdefault(a, []).append(b)\n",
    "print (d)\n"
   ]
  },
  {
   "cell_type": "code",
   "execution_count": 36,
   "metadata": {},
   "outputs": [
    {
     "name": "stdout",
     "output_type": "stream",
     "text": [
      "[5, 10, 7, 4, 15, 3]\n",
      "[5, 10, 7, 4, 15, 3]\n"
     ]
    }
   ],
   "source": [
    "# write a python program to convert a list to a tuple\n",
    "listv = [5, 10, 7, 4, 15, 3]\n",
    "print(listv)\n",
    "tuple = (listv)\n",
    "print(tuple)\n"
   ]
  },
  {
   "cell_type": "code",
   "execution_count": 42,
   "metadata": {},
   "outputs": [
    {
     "name": "stdout",
     "output_type": "stream",
     "text": [
      "(2, 3, 4, 5)\n"
     ]
    }
   ],
   "source": [
    "# write a python program to slice a tuple\n",
    "t1=(1,2,3,4,5,6,7,8)\n",
    "print(t1[1:5])"
   ]
  },
  {
   "cell_type": "code",
   "execution_count": 43,
   "metadata": {},
   "outputs": [
    {
     "name": "stdout",
     "output_type": "stream",
     "text": [
      "(8, 7, 6, 5, 4, 3, 2, 1)\n"
     ]
    }
   ],
   "source": [
    "# write a python programt1=(1,2,3,4,5,6,7,8)\n",
    "t2=()\n",
    "t2=t1[::-1]\n",
    "print(t2)"
   ]
  },
  {
   "cell_type": "code",
   "execution_count": null,
   "metadata": {},
   "outputs": [],
   "source": []
  }
 ],
 "metadata": {
  "kernelspec": {
   "display_name": "Python 3",
   "language": "python",
   "name": "python3"
  },
  "language_info": {
   "codemirror_mode": {
    "name": "ipython",
    "version": 3
   },
   "file_extension": ".py",
   "mimetype": "text/x-python",
   "name": "python",
   "nbconvert_exporter": "python",
   "pygments_lexer": "ipython3",
   "version": "3.8.3"
  }
 },
 "nbformat": 4,
 "nbformat_minor": 4
}
